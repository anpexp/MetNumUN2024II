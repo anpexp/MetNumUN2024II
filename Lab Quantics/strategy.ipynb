{
 "cells": [
  {
   "cell_type": "code",
   "execution_count": 1,
   "id": "13b7a1e1-c1c6-433a-8f2b-4d02c69b9f89",
   "metadata": {},
   "outputs": [
    {
     "data": {
      "text/html": [
       "        <script type=\"text/javascript\">\n",
       "        window.PlotlyConfig = {MathJaxConfig: 'local'};\n",
       "        if (window.MathJax && window.MathJax.Hub && window.MathJax.Hub.Config) {window.MathJax.Hub.Config({SVG: {font: \"STIX-Web\"}});}\n",
       "        if (typeof require !== 'undefined') {\n",
       "        require.undef(\"plotly\");\n",
       "        requirejs.config({\n",
       "            paths: {\n",
       "                'plotly': ['https://cdn.plot.ly/plotly-2.32.0.min']\n",
       "            }\n",
       "        });\n",
       "        require(['plotly'], function(Plotly) {\n",
       "            window._Plotly = Plotly;\n",
       "        });\n",
       "        }\n",
       "        </script>\n",
       "        "
      ]
     },
     "metadata": {},
     "output_type": "display_data"
    }
   ],
   "source": [
    "import logging\n",
    "\n",
    "import xarray as xr  # xarray for data manipulation\n",
    "\n",
    "import qnt.data as qndata     # functions for loading data\n",
    "import qnt.backtester as qnbt # built-in backtester\n",
    "import qnt.ta as qnta         # technical analysis library\n",
    "import qnt.stats as qnstats   # statistical functions\n",
    "\n",
    "import pandas as pd\n",
    "import numpy as np\n",
    "\n",
    "import matplotlib.pyplot as plt\n",
    "\n",
    "np.seterr(divide = \"ignore\")\n",
    "\n",
    "from qnt.ta.macd import macd\n",
    "from qnt.ta.rsi  import rsi\n",
    "from qnt.ta.stochastic import stochastic_k, stochastic, slow_stochastic\n",
    "\n",
    "from sklearn import linear_model\n",
    "from sklearn.metrics import r2_score\n",
    "from sklearn.metrics import explained_variance_score\n",
    "from sklearn.metrics import mean_absolute_error\n",
    "from sklearn.ensemble import RandomForestClassifier\n",
    "\n",
    "#El modelo usado es árbol aleatorio permite obtener predicciones más acertadas en modelos estocásticos, pero además no se va a ir por tendencias extremas sino que va a ser más moderado."
   ]
  },
  {
   "cell_type": "code",
   "execution_count": 2,
   "id": "cbaf7a6b-1cde-4694-b786-b02d1d42d781",
   "metadata": {},
   "outputs": [],
   "source": [
    "import logging\n",
    "\n",
    "import xarray as xr  # xarray for data manipulation\n",
    "\n",
    "import qnt.data as qndata     # functions for loading data\n",
    "import qnt.backtester as qnbt # built-in backtester\n",
    "import qnt.ta as qnta         # technical analysis library\n",
    "import qnt.stats as qnstats   # statistical functions\n",
    "\n",
    "import pandas as pd\n",
    "import numpy as np\n",
    "\n",
    "import matplotlib.pyplot as plt\n",
    "\n",
    "np.seterr(divide = \"ignore\")\n",
    "\n",
    "from qnt.ta.macd import macd\n",
    "from qnt.ta.rsi  import rsi\n",
    "from qnt.ta.stochastic import stochastic_k, stochastic, slow_stochastic\n",
    "\n",
    "from sklearn import linear_model\n",
    "from sklearn.metrics import r2_score\n",
    "from sklearn.metrics import explained_variance_score\n",
    "from sklearn.metrics import mean_absolute_error\n",
    "from sklearn.ensemble import RandomForestClassifier\n",
    "\n",
    "#El modelo usado es árbol aleatorio permite obtener predicciones más acertadas en modelos estocásticos, pero además no se va a ir por tendencias extremas sino que va a ser más moderado."
   ]
  },
  {
   "cell_type": "code",
   "execution_count": 3,
   "id": "4965abce-2a25-4af3-bc8e-9aa863f01cbe",
   "metadata": {},
   "outputs": [
    {
     "name": "stderr",
     "output_type": "stream",
     "text": [
      "100% (367973 of 367973) |################| Elapsed Time: 0:00:00 Time:  0:00:00\n",
      "100% (79197 of 79197) |##################| Elapsed Time: 0:00:00 Time:  0:00:00\n",
      "100% (2092580 of 2092580) |##############| Elapsed Time: 0:00:00 Time:  0:00:00\n"
     ]
    },
    {
     "name": "stdout",
     "output_type": "stream",
     "text": [
      "fetched chunk 1/1 0s\n",
      "Data loaded 1s\n",
      "['NAS:AAL' 'NAS:AAPL' 'NAS:ABNB' 'NAS:ACGL' 'NAS:ADBE' 'NAS:ADI' 'NAS:ADP'\n",
      " 'NAS:ADSK' 'NAS:AEP' 'NAS:AKAM' 'NAS:ALGN' 'NAS:AMAT' 'NAS:AMD'\n",
      " 'NAS:AMGN' 'NAS:AMZN' 'NAS:ANSS' 'NAS:APA' 'NAS:AVGO' 'NAS:AXON'\n",
      " 'NAS:BIIB' 'NAS:BKNG' 'NAS:BKR' 'NAS:CDNS' 'NAS:CDW' 'NAS:CEG' 'NAS:CHRW']\n"
     ]
    },
    {
     "data": {
      "text/html": [
       "<div>\n",
       "<style scoped>\n",
       "    .dataframe tbody tr th:only-of-type {\n",
       "        vertical-align: middle;\n",
       "    }\n",
       "\n",
       "    .dataframe tbody tr th {\n",
       "        vertical-align: top;\n",
       "    }\n",
       "\n",
       "    .dataframe thead th {\n",
       "        text-align: right;\n",
       "    }\n",
       "</style>\n",
       "<table border=\"1\" class=\"dataframe\">\n",
       "  <thead>\n",
       "    <tr style=\"text-align: right;\">\n",
       "      <th>asset</th>\n",
       "      <th>NAS:AAL</th>\n",
       "      <th>NAS:AAPL</th>\n",
       "      <th>NAS:ABNB</th>\n",
       "      <th>NAS:ACGL</th>\n",
       "      <th>NAS:ADBE</th>\n",
       "      <th>NAS:ADI</th>\n",
       "      <th>NAS:ADP</th>\n",
       "      <th>NAS:ADSK</th>\n",
       "      <th>NAS:AEP</th>\n",
       "      <th>NAS:AKAM</th>\n",
       "      <th>...</th>\n",
       "      <th>NAS:APA</th>\n",
       "      <th>NAS:AVGO</th>\n",
       "      <th>NAS:AXON</th>\n",
       "      <th>NAS:BIIB</th>\n",
       "      <th>NAS:BKNG</th>\n",
       "      <th>NAS:BKR</th>\n",
       "      <th>NAS:CDNS</th>\n",
       "      <th>NAS:CDW</th>\n",
       "      <th>NAS:CEG</th>\n",
       "      <th>NAS:CHRW</th>\n",
       "    </tr>\n",
       "    <tr>\n",
       "      <th>time</th>\n",
       "      <th></th>\n",
       "      <th></th>\n",
       "      <th></th>\n",
       "      <th></th>\n",
       "      <th></th>\n",
       "      <th></th>\n",
       "      <th></th>\n",
       "      <th></th>\n",
       "      <th></th>\n",
       "      <th></th>\n",
       "      <th></th>\n",
       "      <th></th>\n",
       "      <th></th>\n",
       "      <th></th>\n",
       "      <th></th>\n",
       "      <th></th>\n",
       "      <th></th>\n",
       "      <th></th>\n",
       "      <th></th>\n",
       "      <th></th>\n",
       "      <th></th>\n",
       "    </tr>\n",
       "  </thead>\n",
       "  <tbody>\n",
       "    <tr>\n",
       "      <th>2020-02-12</th>\n",
       "      <td>NaN</td>\n",
       "      <td>NaN</td>\n",
       "      <td>NaN</td>\n",
       "      <td>NaN</td>\n",
       "      <td>NaN</td>\n",
       "      <td>NaN</td>\n",
       "      <td>NaN</td>\n",
       "      <td>NaN</td>\n",
       "      <td>NaN</td>\n",
       "      <td>NaN</td>\n",
       "      <td>...</td>\n",
       "      <td>NaN</td>\n",
       "      <td>NaN</td>\n",
       "      <td>NaN</td>\n",
       "      <td>NaN</td>\n",
       "      <td>NaN</td>\n",
       "      <td>NaN</td>\n",
       "      <td>NaN</td>\n",
       "      <td>NaN</td>\n",
       "      <td>NaN</td>\n",
       "      <td>NaN</td>\n",
       "    </tr>\n",
       "    <tr>\n",
       "      <th>2020-02-13</th>\n",
       "      <td>NaN</td>\n",
       "      <td>NaN</td>\n",
       "      <td>NaN</td>\n",
       "      <td>NaN</td>\n",
       "      <td>NaN</td>\n",
       "      <td>NaN</td>\n",
       "      <td>NaN</td>\n",
       "      <td>NaN</td>\n",
       "      <td>NaN</td>\n",
       "      <td>NaN</td>\n",
       "      <td>...</td>\n",
       "      <td>NaN</td>\n",
       "      <td>NaN</td>\n",
       "      <td>NaN</td>\n",
       "      <td>NaN</td>\n",
       "      <td>NaN</td>\n",
       "      <td>NaN</td>\n",
       "      <td>NaN</td>\n",
       "      <td>NaN</td>\n",
       "      <td>NaN</td>\n",
       "      <td>NaN</td>\n",
       "    </tr>\n",
       "    <tr>\n",
       "      <th>2020-02-14</th>\n",
       "      <td>NaN</td>\n",
       "      <td>NaN</td>\n",
       "      <td>NaN</td>\n",
       "      <td>NaN</td>\n",
       "      <td>NaN</td>\n",
       "      <td>NaN</td>\n",
       "      <td>NaN</td>\n",
       "      <td>NaN</td>\n",
       "      <td>NaN</td>\n",
       "      <td>NaN</td>\n",
       "      <td>...</td>\n",
       "      <td>NaN</td>\n",
       "      <td>NaN</td>\n",
       "      <td>NaN</td>\n",
       "      <td>NaN</td>\n",
       "      <td>NaN</td>\n",
       "      <td>NaN</td>\n",
       "      <td>NaN</td>\n",
       "      <td>NaN</td>\n",
       "      <td>NaN</td>\n",
       "      <td>NaN</td>\n",
       "    </tr>\n",
       "    <tr>\n",
       "      <th>2020-02-18</th>\n",
       "      <td>NaN</td>\n",
       "      <td>NaN</td>\n",
       "      <td>NaN</td>\n",
       "      <td>NaN</td>\n",
       "      <td>NaN</td>\n",
       "      <td>NaN</td>\n",
       "      <td>NaN</td>\n",
       "      <td>NaN</td>\n",
       "      <td>NaN</td>\n",
       "      <td>NaN</td>\n",
       "      <td>...</td>\n",
       "      <td>NaN</td>\n",
       "      <td>NaN</td>\n",
       "      <td>NaN</td>\n",
       "      <td>NaN</td>\n",
       "      <td>NaN</td>\n",
       "      <td>NaN</td>\n",
       "      <td>NaN</td>\n",
       "      <td>NaN</td>\n",
       "      <td>NaN</td>\n",
       "      <td>NaN</td>\n",
       "    </tr>\n",
       "    <tr>\n",
       "      <th>2020-02-19</th>\n",
       "      <td>NaN</td>\n",
       "      <td>NaN</td>\n",
       "      <td>NaN</td>\n",
       "      <td>NaN</td>\n",
       "      <td>NaN</td>\n",
       "      <td>NaN</td>\n",
       "      <td>NaN</td>\n",
       "      <td>NaN</td>\n",
       "      <td>NaN</td>\n",
       "      <td>NaN</td>\n",
       "      <td>...</td>\n",
       "      <td>NaN</td>\n",
       "      <td>NaN</td>\n",
       "      <td>NaN</td>\n",
       "      <td>NaN</td>\n",
       "      <td>NaN</td>\n",
       "      <td>NaN</td>\n",
       "      <td>NaN</td>\n",
       "      <td>NaN</td>\n",
       "      <td>NaN</td>\n",
       "      <td>NaN</td>\n",
       "    </tr>\n",
       "    <tr>\n",
       "      <th>...</th>\n",
       "      <td>...</td>\n",
       "      <td>...</td>\n",
       "      <td>...</td>\n",
       "      <td>...</td>\n",
       "      <td>...</td>\n",
       "      <td>...</td>\n",
       "      <td>...</td>\n",
       "      <td>...</td>\n",
       "      <td>...</td>\n",
       "      <td>...</td>\n",
       "      <td>...</td>\n",
       "      <td>...</td>\n",
       "      <td>...</td>\n",
       "      <td>...</td>\n",
       "      <td>...</td>\n",
       "      <td>...</td>\n",
       "      <td>...</td>\n",
       "      <td>...</td>\n",
       "      <td>...</td>\n",
       "      <td>...</td>\n",
       "      <td>...</td>\n",
       "    </tr>\n",
       "    <tr>\n",
       "      <th>2025-01-31</th>\n",
       "      <td>0.143845</td>\n",
       "      <td>-0.020030</td>\n",
       "      <td>-0.076572</td>\n",
       "      <td>-0.081199</td>\n",
       "      <td>-0.266023</td>\n",
       "      <td>-0.072554</td>\n",
       "      <td>0.055300</td>\n",
       "      <td>0.116794</td>\n",
       "      <td>0.101628</td>\n",
       "      <td>0.164671</td>\n",
       "      <td>...</td>\n",
       "      <td>-0.117945</td>\n",
       "      <td>0.299432</td>\n",
       "      <td>0.258332</td>\n",
       "      <td>-0.243230</td>\n",
       "      <td>-0.168453</td>\n",
       "      <td>0.253788</td>\n",
       "      <td>-0.065466</td>\n",
       "      <td>0.286603</td>\n",
       "      <td>0.544005</td>\n",
       "      <td>-0.214498</td>\n",
       "    </tr>\n",
       "    <tr>\n",
       "      <th>2025-02-03</th>\n",
       "      <td>0.090432</td>\n",
       "      <td>-0.132496</td>\n",
       "      <td>-0.108737</td>\n",
       "      <td>-0.078502</td>\n",
       "      <td>-0.253000</td>\n",
       "      <td>-0.170161</td>\n",
       "      <td>0.100157</td>\n",
       "      <td>0.056200</td>\n",
       "      <td>0.135289</td>\n",
       "      <td>0.099523</td>\n",
       "      <td>...</td>\n",
       "      <td>-0.181018</td>\n",
       "      <td>0.231572</td>\n",
       "      <td>0.269174</td>\n",
       "      <td>-0.267718</td>\n",
       "      <td>-0.198295</td>\n",
       "      <td>0.334892</td>\n",
       "      <td>-0.060970</td>\n",
       "      <td>0.270101</td>\n",
       "      <td>0.609674</td>\n",
       "      <td>-0.256926</td>\n",
       "    </tr>\n",
       "    <tr>\n",
       "      <th>2025-02-04</th>\n",
       "      <td>0.105387</td>\n",
       "      <td>-0.068328</td>\n",
       "      <td>-0.082237</td>\n",
       "      <td>-0.088984</td>\n",
       "      <td>-0.236719</td>\n",
       "      <td>-0.153932</td>\n",
       "      <td>0.067596</td>\n",
       "      <td>0.059558</td>\n",
       "      <td>0.083713</td>\n",
       "      <td>0.164757</td>\n",
       "      <td>...</td>\n",
       "      <td>-0.044782</td>\n",
       "      <td>0.289791</td>\n",
       "      <td>0.273901</td>\n",
       "      <td>-0.253749</td>\n",
       "      <td>-0.207059</td>\n",
       "      <td>0.364382</td>\n",
       "      <td>-0.047847</td>\n",
       "      <td>0.283206</td>\n",
       "      <td>0.590004</td>\n",
       "      <td>-0.232494</td>\n",
       "    </tr>\n",
       "    <tr>\n",
       "      <th>2025-02-05</th>\n",
       "      <td>0.116646</td>\n",
       "      <td>-0.075044</td>\n",
       "      <td>-0.107557</td>\n",
       "      <td>-0.076752</td>\n",
       "      <td>-0.250533</td>\n",
       "      <td>-0.093480</td>\n",
       "      <td>0.103455</td>\n",
       "      <td>0.106091</td>\n",
       "      <td>0.136915</td>\n",
       "      <td>0.200051</td>\n",
       "      <td>...</td>\n",
       "      <td>-0.070615</td>\n",
       "      <td>0.421227</td>\n",
       "      <td>0.346959</td>\n",
       "      <td>-0.174924</td>\n",
       "      <td>-0.191215</td>\n",
       "      <td>0.418145</td>\n",
       "      <td>-0.017247</td>\n",
       "      <td>0.400962</td>\n",
       "      <td>0.662265</td>\n",
       "      <td>-0.279178</td>\n",
       "    </tr>\n",
       "    <tr>\n",
       "      <th>2025-02-06</th>\n",
       "      <td>0.126236</td>\n",
       "      <td>-0.067029</td>\n",
       "      <td>-0.029545</td>\n",
       "      <td>-0.043085</td>\n",
       "      <td>-0.259220</td>\n",
       "      <td>-0.119430</td>\n",
       "      <td>0.111837</td>\n",
       "      <td>0.064358</td>\n",
       "      <td>0.161670</td>\n",
       "      <td>0.158067</td>\n",
       "      <td>...</td>\n",
       "      <td>-0.143383</td>\n",
       "      <td>0.396696</td>\n",
       "      <td>0.309793</td>\n",
       "      <td>-0.234240</td>\n",
       "      <td>-0.134508</td>\n",
       "      <td>0.268969</td>\n",
       "      <td>-0.015506</td>\n",
       "      <td>0.287612</td>\n",
       "      <td>0.617918</td>\n",
       "      <td>-0.294269</td>\n",
       "    </tr>\n",
       "  </tbody>\n",
       "</table>\n",
       "<p>1254 rows × 26 columns</p>\n",
       "</div>"
      ],
      "text/plain": [
       "asset        NAS:AAL  NAS:AAPL  NAS:ABNB  NAS:ACGL  NAS:ADBE   NAS:ADI  \\\n",
       "time                                                                     \n",
       "2020-02-12       NaN       NaN       NaN       NaN       NaN       NaN   \n",
       "2020-02-13       NaN       NaN       NaN       NaN       NaN       NaN   \n",
       "2020-02-14       NaN       NaN       NaN       NaN       NaN       NaN   \n",
       "2020-02-18       NaN       NaN       NaN       NaN       NaN       NaN   \n",
       "2020-02-19       NaN       NaN       NaN       NaN       NaN       NaN   \n",
       "...              ...       ...       ...       ...       ...       ...   \n",
       "2025-01-31  0.143845 -0.020030 -0.076572 -0.081199 -0.266023 -0.072554   \n",
       "2025-02-03  0.090432 -0.132496 -0.108737 -0.078502 -0.253000 -0.170161   \n",
       "2025-02-04  0.105387 -0.068328 -0.082237 -0.088984 -0.236719 -0.153932   \n",
       "2025-02-05  0.116646 -0.075044 -0.107557 -0.076752 -0.250533 -0.093480   \n",
       "2025-02-06  0.126236 -0.067029 -0.029545 -0.043085 -0.259220 -0.119430   \n",
       "\n",
       "asset        NAS:ADP  NAS:ADSK   NAS:AEP  NAS:AKAM  ...   NAS:APA  NAS:AVGO  \\\n",
       "time                                                ...                       \n",
       "2020-02-12       NaN       NaN       NaN       NaN  ...       NaN       NaN   \n",
       "2020-02-13       NaN       NaN       NaN       NaN  ...       NaN       NaN   \n",
       "2020-02-14       NaN       NaN       NaN       NaN  ...       NaN       NaN   \n",
       "2020-02-18       NaN       NaN       NaN       NaN  ...       NaN       NaN   \n",
       "2020-02-19       NaN       NaN       NaN       NaN  ...       NaN       NaN   \n",
       "...              ...       ...       ...       ...  ...       ...       ...   \n",
       "2025-01-31  0.055300  0.116794  0.101628  0.164671  ... -0.117945  0.299432   \n",
       "2025-02-03  0.100157  0.056200  0.135289  0.099523  ... -0.181018  0.231572   \n",
       "2025-02-04  0.067596  0.059558  0.083713  0.164757  ... -0.044782  0.289791   \n",
       "2025-02-05  0.103455  0.106091  0.136915  0.200051  ... -0.070615  0.421227   \n",
       "2025-02-06  0.111837  0.064358  0.161670  0.158067  ... -0.143383  0.396696   \n",
       "\n",
       "asset       NAS:AXON  NAS:BIIB  NAS:BKNG   NAS:BKR  NAS:CDNS   NAS:CDW  \\\n",
       "time                                                                     \n",
       "2020-02-12       NaN       NaN       NaN       NaN       NaN       NaN   \n",
       "2020-02-13       NaN       NaN       NaN       NaN       NaN       NaN   \n",
       "2020-02-14       NaN       NaN       NaN       NaN       NaN       NaN   \n",
       "2020-02-18       NaN       NaN       NaN       NaN       NaN       NaN   \n",
       "2020-02-19       NaN       NaN       NaN       NaN       NaN       NaN   \n",
       "...              ...       ...       ...       ...       ...       ...   \n",
       "2025-01-31  0.258332 -0.243230 -0.168453  0.253788 -0.065466  0.286603   \n",
       "2025-02-03  0.269174 -0.267718 -0.198295  0.334892 -0.060970  0.270101   \n",
       "2025-02-04  0.273901 -0.253749 -0.207059  0.364382 -0.047847  0.283206   \n",
       "2025-02-05  0.346959 -0.174924 -0.191215  0.418145 -0.017247  0.400962   \n",
       "2025-02-06  0.309793 -0.234240 -0.134508  0.268969 -0.015506  0.287612   \n",
       "\n",
       "asset        NAS:CEG  NAS:CHRW  \n",
       "time                            \n",
       "2020-02-12       NaN       NaN  \n",
       "2020-02-13       NaN       NaN  \n",
       "2020-02-14       NaN       NaN  \n",
       "2020-02-18       NaN       NaN  \n",
       "2020-02-19       NaN       NaN  \n",
       "...              ...       ...  \n",
       "2025-01-31  0.544005 -0.214498  \n",
       "2025-02-03  0.609674 -0.256926  \n",
       "2025-02-04  0.590004 -0.232494  \n",
       "2025-02-05  0.662265 -0.279178  \n",
       "2025-02-06  0.617918 -0.294269  \n",
       "\n",
       "[1254 rows x 26 columns]"
      ]
     },
     "metadata": {},
     "output_type": "display_data"
    },
    {
     "name": "stdout",
     "output_type": "stream",
     "text": [
      "Run the last iteration...\n"
     ]
    },
    {
     "name": "stderr",
     "output_type": "stream",
     "text": [
      "100% (44115 of 44115) |##################| Elapsed Time: 0:00:00 Time:  0:00:00\n",
      "100% (8930364 of 8930364) |##############| Elapsed Time: 0:00:00 Time:  0:00:00\n"
     ]
    },
    {
     "name": "stdout",
     "output_type": "stream",
     "text": [
      "fetched chunk 1/1 2s\n",
      "Data loaded 2s\n"
     ]
    },
    {
     "name": "stderr",
     "output_type": "stream",
     "text": [
      "100% (667400 of 667400) |################| Elapsed Time: 0:00:00 Time:  0:00:00\n"
     ]
    },
    {
     "name": "stdout",
     "output_type": "stream",
     "text": [
      "fetched chunk 1/1 2s\n",
      "Data loaded 2s\n",
      "Output cleaning...\n",
      "fix uniq\n",
      "ffill if the current price is None...\n",
      "Check liquidity...\n",
      "WARNING! Strategy trades non-liquid assets.\n",
      "Fix liquidity...\n",
      "Ok.\n",
      "Check missed dates...\n",
      "Ok.\n",
      "Normalization...\n",
      "Output cleaning is complete.\n",
      "Write output: /root/fractions.nc.gz\n",
      "State saved.\n",
      "---\n",
      "Run First Iteration...\n"
     ]
    },
    {
     "name": "stderr",
     "output_type": "stream",
     "text": [
      "100% (44115 of 44115) |##################| Elapsed Time: 0:00:00 Time:  0:00:00\n",
      "100% (9037908 of 9037908) |##############| Elapsed Time: 0:00:00 Time:  0:00:00\n"
     ]
    },
    {
     "name": "stdout",
     "output_type": "stream",
     "text": [
      "fetched chunk 1/1 2s\n",
      "Data loaded 2s\n",
      "---\n",
      "Run all iterations...\n",
      "Load data...\n"
     ]
    },
    {
     "name": "stderr",
     "output_type": "stream",
     "text": [
      "100% (44115 of 44115) |##################| Elapsed Time: 0:00:00 Time:  0:00:00\n",
      "100% (13049888 of 13049888) |############| Elapsed Time: 0:00:00 Time:  0:00:00\n"
     ]
    },
    {
     "name": "stdout",
     "output_type": "stream",
     "text": [
      "fetched chunk 1/8 1s\n"
     ]
    },
    {
     "name": "stderr",
     "output_type": "stream",
     "text": [
      "100% (13049888 of 13049888) |############| Elapsed Time: 0:00:00 Time:  0:00:00\n"
     ]
    },
    {
     "name": "stdout",
     "output_type": "stream",
     "text": [
      "fetched chunk 2/8 1s\n"
     ]
    },
    {
     "name": "stderr",
     "output_type": "stream",
     "text": [
      "100% (13049888 of 13049888) |############| Elapsed Time: 0:00:00 Time:  0:00:00\n"
     ]
    },
    {
     "name": "stdout",
     "output_type": "stream",
     "text": [
      "fetched chunk 3/8 2s\n"
     ]
    },
    {
     "name": "stderr",
     "output_type": "stream",
     "text": [
      "100% (13049864 of 13049864) |############| Elapsed Time: 0:00:00 Time:  0:00:00\n"
     ]
    },
    {
     "name": "stdout",
     "output_type": "stream",
     "text": [
      "fetched chunk 4/8 3s\n"
     ]
    },
    {
     "name": "stderr",
     "output_type": "stream",
     "text": [
      "100% (13049796 of 13049796) |############| Elapsed Time: 0:00:00 Time:  0:00:00\n"
     ]
    },
    {
     "name": "stdout",
     "output_type": "stream",
     "text": [
      "fetched chunk 5/8 4s\n"
     ]
    },
    {
     "name": "stderr",
     "output_type": "stream",
     "text": [
      "100% (13049796 of 13049796) |############| Elapsed Time: 0:00:00 Time:  0:00:00\n"
     ]
    },
    {
     "name": "stdout",
     "output_type": "stream",
     "text": [
      "fetched chunk 6/8 5s\n"
     ]
    },
    {
     "name": "stderr",
     "output_type": "stream",
     "text": [
      "100% (13049796 of 13049796) |############| Elapsed Time: 0:00:00 Time:  0:00:00\n"
     ]
    },
    {
     "name": "stdout",
     "output_type": "stream",
     "text": [
      "fetched chunk 7/8 5s\n"
     ]
    },
    {
     "name": "stderr",
     "output_type": "stream",
     "text": [
      "100% (13049864 of 13049864) |############| Elapsed Time: 0:00:00 Time:  0:00:00\n"
     ]
    },
    {
     "name": "stdout",
     "output_type": "stream",
     "text": [
      "fetched chunk 8/8 6s\n",
      "Data loaded 6s\n"
     ]
    },
    {
     "name": "stderr",
     "output_type": "stream",
     "text": [
      "100% (44115 of 44115) |##################| Elapsed Time: 0:00:00 Time:  0:00:00\n",
      "100% (12967240 of 12967240) |############| Elapsed Time: 0:00:00 Time:  0:00:00\n"
     ]
    },
    {
     "name": "stdout",
     "output_type": "stream",
     "text": [
      "fetched chunk 1/7 1s\n"
     ]
    },
    {
     "name": "stderr",
     "output_type": "stream",
     "text": [
      "100% (12967236 of 12967236) |############| Elapsed Time: 0:00:00 Time:  0:00:00\n"
     ]
    },
    {
     "name": "stdout",
     "output_type": "stream",
     "text": [
      "fetched chunk 2/7 2s\n"
     ]
    },
    {
     "name": "stderr",
     "output_type": "stream",
     "text": [
      "100% (12967236 of 12967236) |############| Elapsed Time: 0:00:00 Time:  0:00:00\n"
     ]
    },
    {
     "name": "stdout",
     "output_type": "stream",
     "text": [
      "fetched chunk 3/7 2s\n"
     ]
    },
    {
     "name": "stderr",
     "output_type": "stream",
     "text": [
      "100% (12967212 of 12967212) |############| Elapsed Time: 0:00:00 Time:  0:00:00\n"
     ]
    },
    {
     "name": "stdout",
     "output_type": "stream",
     "text": [
      "fetched chunk 4/7 3s\n"
     ]
    },
    {
     "name": "stderr",
     "output_type": "stream",
     "text": [
      "100% (12967132 of 12967132) |############| Elapsed Time: 0:00:00 Time:  0:00:00\n"
     ]
    },
    {
     "name": "stdout",
     "output_type": "stream",
     "text": [
      "fetched chunk 5/7 4s\n"
     ]
    },
    {
     "name": "stderr",
     "output_type": "stream",
     "text": [
      "100% (12967132 of 12967132) |############| Elapsed Time: 0:00:00 Time:  0:00:00\n"
     ]
    },
    {
     "name": "stdout",
     "output_type": "stream",
     "text": [
      "fetched chunk 6/7 5s\n"
     ]
    },
    {
     "name": "stderr",
     "output_type": "stream",
     "text": [
      "100% (12967212 of 12967212) |############| Elapsed Time: 0:00:00 Time:  0:00:00\n"
     ]
    },
    {
     "name": "stdout",
     "output_type": "stream",
     "text": [
      "fetched chunk 7/7 6s\n",
      "Data loaded 6s\n",
      "Backtest...\n"
     ]
    },
    {
     "name": "stderr",
     "output_type": "stream",
     "text": [
      "100% (44115 of 44115) |##################| Elapsed Time: 0:00:00 Time:  0:00:00\n",
      "100% (13069800 of 13069800) |############| Elapsed Time: 0:00:00 Time:  0:00:00\n"
     ]
    },
    {
     "name": "stdout",
     "output_type": "stream",
     "text": [
      "fetched chunk 1/7 1s\n"
     ]
    },
    {
     "name": "stderr",
     "output_type": "stream",
     "text": [
      "100% (13069796 of 13069796) |############| Elapsed Time: 0:00:00 Time:  0:00:00\n"
     ]
    },
    {
     "name": "stdout",
     "output_type": "stream",
     "text": [
      "fetched chunk 2/7 2s\n"
     ]
    },
    {
     "name": "stderr",
     "output_type": "stream",
     "text": [
      "100% (13069796 of 13069796) |############| Elapsed Time: 0:00:00 Time:  0:00:00\n"
     ]
    },
    {
     "name": "stdout",
     "output_type": "stream",
     "text": [
      "fetched chunk 3/7 2s\n"
     ]
    },
    {
     "name": "stderr",
     "output_type": "stream",
     "text": [
      "100% (13069772 of 13069772) |############| Elapsed Time: 0:00:00 Time:  0:00:00\n"
     ]
    },
    {
     "name": "stdout",
     "output_type": "stream",
     "text": [
      "fetched chunk 4/7 3s\n"
     ]
    },
    {
     "name": "stderr",
     "output_type": "stream",
     "text": [
      "100% (13069692 of 13069692) |############| Elapsed Time: 0:00:00 Time:  0:00:00\n"
     ]
    },
    {
     "name": "stdout",
     "output_type": "stream",
     "text": [
      "fetched chunk 5/7 4s\n"
     ]
    },
    {
     "name": "stderr",
     "output_type": "stream",
     "text": [
      "100% (13069692 of 13069692) |############| Elapsed Time: 0:00:00 Time:  0:00:00\n"
     ]
    },
    {
     "name": "stdout",
     "output_type": "stream",
     "text": [
      "fetched chunk 6/7 5s\n"
     ]
    },
    {
     "name": "stderr",
     "output_type": "stream",
     "text": [
      "100% (13069772 of 13069772) |############| Elapsed Time: 0:00:00 Time:  0:00:00\n"
     ]
    },
    {
     "name": "stdout",
     "output_type": "stream",
     "text": [
      "fetched chunk 7/7 6s\n",
      "Data loaded 6s\n",
      "Output cleaning...\n",
      "fix uniq\n",
      "ffill if the current price is None...\n",
      "Check liquidity...\n",
      "WARNING! Strategy trades non-liquid assets.\n",
      "Fix liquidity...\n",
      "Ok.\n",
      "Check missed dates...\n",
      "Ok.\n",
      "Normalization...\n",
      "Output cleaning is complete.\n",
      "Write output: /root/fractions.nc.gz\n",
      "State saved.\n",
      "---\n",
      "Analyze results...\n",
      "Check...\n",
      "Check liquidity...\n",
      "Ok.\n",
      "Check missed dates...\n",
      "Ok.\n",
      "Check the sharpe ratio...\n",
      "Period: 2006-01-01 - 2025-02-06\n",
      "Sharpe Ratio = 0.7665880156414984\n",
      "Ok.\n",
      "---\n",
      "Align...\n",
      "Calc global stats...\n",
      "---\n",
      "Calc stats per asset...\n",
      "Build plots...\n",
      "---\n",
      "Select the asset (or leave blank to display the overall stats):\n"
     ]
    },
    {
     "data": {
      "application/vnd.jupyter.widget-view+json": {
       "model_id": "a9b56e45ab864feab011da8695ebb7ae",
       "version_major": 2,
       "version_minor": 0
      },
      "text/plain": [
       "interactive(children=(Combobox(value='', description='asset', options=('', 'NAS:AAL', 'NAS:AAPL', 'NAS:ABNB', …"
      ]
     },
     "metadata": {},
     "output_type": "display_data"
    },
    {
     "name": "stderr",
     "output_type": "stream",
     "text": [
      "100% (5057 of 5057) |####################| Elapsed Time: 0:02:29 Time:  0:02:29\n"
     ]
    },
    {
     "name": "stdout",
     "output_type": "stream",
     "text": [
      "<xarray.DataArray 'stocks_nasdaq100' (time: 5057, asset: 280)> Size: 11MB\n",
      "array([[0.        , 0.        , 0.        , ..., 0.        , 0.        ,\n",
      "        0.        ],\n",
      "       [0.        , 0.00504315, 0.        , ..., 0.00593971, 0.00369831,\n",
      "        0.00392245],\n",
      "       [0.        , 0.0034375 , 0.        , ..., 0.        , 0.        ,\n",
      "        0.        ],\n",
      "       ...,\n",
      "       [0.        , 0.00611777, 0.00828448, ..., 0.        , 0.        ,\n",
      "        0.        ],\n",
      "       [0.        , 0.00722892, 0.00887762, ..., 0.        , 0.        ,\n",
      "        0.        ],\n",
      "       [0.        , 0.00724185, 0.00761643, ..., 0.        , 0.        ,\n",
      "        0.        ]])\n",
      "Coordinates:\n",
      "  * time     (time) datetime64[ns] 40kB 2005-01-03 2005-01-04 ... 2025-02-06\n",
      "  * asset    (asset) <U10 11kB 'NAS:AAL' 'NAS:AAPL' ... 'NYS:RHT' 'NYS:TEVA'\n"
     ]
    },
    {
     "data": {
      "image/png": "[encoded data removed]",
      "text/plain": [
       "<Figure size 1000x600 with 1 Axes>"
      ]
     },
     "metadata": {},
     "output_type": "display_data"
    },
    {
     "name": "stdout",
     "output_type": "stream",
     "text": [
      "Sharpe Ratio: <xarray.DataArray (time: 1254, field: 11)> Size: 110kB\n",
      "array([[            nan,             nan,             nan, ...,\n",
      "                    nan,             nan,             nan],\n",
      "       [            inf,             nan,             nan, ...,\n",
      "                    inf, 4.13385466e+002,             nan],\n",
      "       [            inf,             nan,             nan, ...,\n",
      "                    inf, 1.12509132e+003,             nan],\n",
      "       ...,\n",
      "       [3.28541576e+078, 6.38486277e-001, 1.51919971e+004, ...,\n",
      "                    inf, 1.16236411e+003, 1.01129175e+291],\n",
      "       [3.29493369e+078, 6.47685877e-001, 1.51779052e+004, ...,\n",
      "                    inf, 1.16278869e+003, 1.01709009e+291],\n",
      "       [3.30443224e+078, 6.44554538e-001, 1.51638189e+004, ...,\n",
      "                    inf, 1.16321107e+003, 1.02248398e+291]])\n",
      "Coordinates:\n",
      "  * time     (time) datetime64[ns] 10kB 2020-02-12 2020-02-13 ... 2025-02-06\n",
      "  * field    (field) object 88B 'equity' ... 'avg_holding_time'\n",
      "R2: -0.9918530473339287, Explained Variance: 0.00033345962974273835, MAE: 0.5019497569775025\n",
      "done\n"
     ]
    },
    {
     "name": "stderr",
     "output_type": "stream",
     "text": [
      "/usr/local/lib/python3.10/site-packages/xarray/core/computation.py:821: RuntimeWarning:\n",
      "\n",
      "invalid value encountered in log\n",
      "\n",
      "/usr/local/lib/python3.10/site-packages/xarray/core/computation.py:821: RuntimeWarning:\n",
      "\n",
      "overflow encountered in power\n",
      "\n"
     ]
    }
   ],
   "source": [
    "np.seterr(divide=\"ignore\")\n",
    "\n",
    "# Cargar datos\n",
    "assets = ['NAS:AAL', 'NAS:AAPL', 'NAS:ABNB', 'NAS:ACGL', 'NAS:ADBE', 'NAS:ADI', 'NAS:ADP',\n",
    " 'NAS:ADSK', 'NAS:AEP', 'NAS:AKAM', 'NAS:ALGN', 'NAS:AMAT', 'NAS:AMD',\n",
    " 'NAS:AMGN', 'NAS:AMZN', 'NAS:ANSS', 'NAS:APA', 'NAS:AVGO', 'NAS:AXON',\n",
    " 'NAS:BIIB', 'NAS:BKNG', 'NAS:BKR', 'NAS:CDNS', 'NAS:CDW', 'NAS:CEG', 'NAS:CHRW']\n",
    "\n",
    "#Estas son las 20 acciones analizadas, estas cubren diferentes campos, que varian entre mercados y que son las líderes del mercado, lo que las hace más fuertes.\n",
    "\n",
    "data = qndata.stocks.load_spx_data(tail=365 * 5, assets=assets)\n",
    "\n",
    "print(data.coords[\"asset\"].values)\n",
    "\n",
    "\n",
    "\n",
    "# Función para generar características\n",
    "def get_features(data):\n",
    "    close = data.sel(field=\"close\")\n",
    "    high = data.sel(field=\"high\")\n",
    "    low = data.sel(field=\"low\")\n",
    "\n",
    "    trend = qnta.roc(qnta.lwma(close, 60), 1)\n",
    "    macd_signal = qnta.macd(close)[1]\n",
    "    volatility = qnta.tr(high, low, close) / close\n",
    "    volatility_annual = volatility.rolling(time=250).std()\n",
    "    stochastic_k, stochastic_d = qnta.stochastic(high, low, close, 14)\n",
    "    rsi = qnta.rsi(close)\n",
    "    log_price = np.log(close)\n",
    "\n",
    "    #RSI y log price son dos nuevas variables que agregan mas datos a la apertura y la fuerza de un movimiento para poder ayudar a la predicción.\n",
    "\n",
    "    features = xr.concat(\n",
    "        [trend, macd_signal, volatility, volatility_annual, stochastic_d, rsi, log_price],\n",
    "        pd.Index([\"trend\", \"macd_signal\", \"volatility\", \"volatility_annual\", \"stochastic_d\", \"rsi\", \"log_price\"], name=\"field\"),\n",
    "    )\n",
    "    return features.transpose(\"time\", \"field\", \"asset\")\n",
    "\n",
    "my_features = get_features(data)\n",
    "display(my_features.sel(field=\"trend\").to_pandas())\n",
    "# Target: subir o bajar\n",
    "def get_target_classes(data):\n",
    "    price = data.sel(field=\"close\")\n",
    "    future_price = qnta.shift(price, -1)\n",
    "    return xr.where(future_price > price, 1, 0)\n",
    "\n",
    "# Modelo basado en Random Forest\n",
    "def get_model():\n",
    "    return RandomForestClassifier(n_estimators=100, random_state=42, n_jobs=-1)\n",
    "\n",
    "# Entrenamiento de modelos\n",
    "def train_model(data):\n",
    "    features = get_features(data)\n",
    "    targets = get_target_classes(data)\n",
    "    models = {}\n",
    "    for asset in data.coords[\"asset\"].values:\n",
    "        target_asset = targets.sel(asset=asset).dropna(dim=\"time\", how=\"any\")\n",
    "        features_asset = features.sel(asset=asset).dropna(dim=\"time\", how=\"any\")\n",
    "        target_df, feature_df = xr.align(target_asset, features_asset, join=\"inner\")\n",
    "        if len(target_df.time) < 10:\n",
    "            continue\n",
    "        model = get_model()\n",
    "        model.fit(feature_df.values, target_df.values)\n",
    "        models[asset] = model\n",
    "    return models\n",
    "\n",
    "# Predicción de pesos\n",
    "def predict_weights(models, data):\n",
    "    features = get_features(data)\n",
    "    weights = xr.zeros_like(data.sel(field=\"close\"))\n",
    "    for asset in data.coords[\"asset\"].values:\n",
    "        if asset in models:\n",
    "            model = models[asset]\n",
    "            features_asset = features.sel(asset=asset).dropna(dim=\"time\", how=\"any\")\n",
    "            if len(features_asset.time) < 1:\n",
    "                continue\n",
    "            # Predicción probabilística\n",
    "            probas = model.predict_proba(features_asset.values)[:, 1]\n",
    "            weights.loc[dict(asset=asset, time=features_asset.time.values)] = probas\n",
    "    # Normaliza los pesos para construir un portafolio diversificado\n",
    "    weights = weights / weights.sum(dim=\"asset\")\n",
    "    return weights\n",
    "\n",
    "# Backtesting\n",
    "weights = qnbt.backtest_ml(\n",
    "    train                         = train_model,  # Función para entrenar modelos\n",
    "    predict                       = predict_weights,  # Función para predecir pesos\n",
    "    train_period                  = 2 * 365,  # Período de entrenamiento en días calendario\n",
    "    retrain_interval              = 10 * 365,  # Intervalo de reentrenamiento en días calendario\n",
    "    retrain_interval_after_submit = 1,  # Intervalo de reentrenamiento después de la evaluación\n",
    "    predict_each_day              = False,  # No es necesario predecir todos los días\n",
    "    competition_type              = \"stocks_nasdaq100\",  # Tipo de competencia\n",
    "    lookback_period               = 365,  # Período de datos necesarios para generar la predicción\n",
    "    start_date                    = \"2005-01-01\",  # Fecha de inicio del backtest\n",
    "    analyze                       = True,  # Realizar análisis de resultados\n",
    "    build_plots                   = True  # Generar gráficos\n",
    ")\n",
    "\n",
    "# Imprimir resultados básicos\n",
    "print(weights)\n",
    "\n",
    "result = weights\n",
    "\n",
    "\n",
    "# Métricas y visualización\n",
    "statistics = qnstats.calc_stat(data, result)  # Usar `result` correctamente\n",
    "performance = statistics.to_pandas()[\"equity\"]\n",
    "performance.plot(logy=True, title=\"Performance (log scale)\", figsize=(10, 6))\n",
    "plt.show()\n",
    "\n",
    "sharpe_ratio = qnstats.calc_sharpe_ratio_annualized(statistics)\n",
    "print(\"Sharpe Ratio:\", sharpe_ratio)\n",
    "\n",
    "# Métricas del modelo\n",
    "target = get_target_classes(data)\n",
    "aligned_target, aligned_result = xr.align(target, result, join=\"inner\")\n",
    "r2 = r2_score(aligned_target.values.flatten(), aligned_result.values.flatten())\n",
    "explained_var = explained_variance_score(aligned_target.values.flatten(), aligned_result.values.flatten())\n",
    "mae = mean_absolute_error(aligned_target.values.flatten(), aligned_result.values.flatten())\n",
    "\n",
    "print(f\"R2: {r2}, Explained Variance: {explained_var}, MAE: {mae}\")\n",
    "print(\"done\")"
   ]
  },
  {
   "cell_type": "code",
   "execution_count": 4,
   "id": "edb3fa94-46e7-40e1-abb2-f182bc05aef0",
   "metadata": {},
   "outputs": [],
   "source": [
    "#"
   ]
  }
 ],
 "metadata": {
  "kernelspec": {
   "display_name": "Python 3 (ipykernel)",
   "language": "python",
   "name": "python3"
  },
  "language_info": {
   "codemirror_mode": {
    "name": "ipython",
    "version": 3
   },
   "file_extension": ".py",
   "mimetype": "text/x-python",
   "name": "python",
   "nbconvert_exporter": "python",
   "pygments_lexer": "ipython3",
   "version": "3.10.13"
  }
 },
 "nbformat": 4,
 "nbformat_minor": 5
}

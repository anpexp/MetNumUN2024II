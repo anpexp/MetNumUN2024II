{
 "cells": [
  {
   "cell_type": "code",
   "execution_count": 3,
   "id": "13b7a1e1-c1c6-433a-8f2b-4d02c69b9f89",
   "metadata": {},
   "outputs": [],
   "source": [
    "import logging\n",
    "\n",
    "import xarray as xr  # xarray for data manipulation\n",
    "\n",
    "import qnt.data as qndata     # functions for loading data\n",
    "import qnt.backtester as qnbt # built-in backtester\n",
    "import qnt.ta as qnta         # technical analysis library\n",
    "import qnt.stats as qnstats   # statistical functions\n",
    "\n",
    "import pandas as pd\n",
    "import numpy as np\n",
    "\n",
    "import matplotlib.pyplot as plt\n",
    "\n",
    "np.seterr(divide = \"ignore\")\n",
    "\n",
    "from qnt.ta.macd import macd\n",
    "from qnt.ta.rsi  import rsi\n",
    "from qnt.ta.stochastic import stochastic_k, stochastic, slow_stochastic\n",
    "\n",
    "from sklearn import linear_model\n",
    "from sklearn.metrics import r2_score\n",
    "from sklearn.metrics import explained_variance_score\n",
    "from sklearn.metrics import mean_absolute_error\n",
    "from sklearn.ensemble import RandomForestClassifier\n",
    "\n",
    "#El modelo usado es árbol aleatorio"
   ]
  },
  {
   "cell_type": "code",
   "execution_count": 4,
   "id": "4965abce-2a25-4af3-bc8e-9aa863f01cbe",
   "metadata": {},
   "outputs": [
    {
     "name": "stderr",
     "output_type": "stream",
     "text": [
      "100% (2092580 of 2092580) |##############| Elapsed Time: 0:00:00 Time:  0:00:00\n"
     ]
    },
    {
     "name": "stdout",
     "output_type": "stream",
     "text": [
      "fetched chunk 1/1 0s\n",
      "Data loaded 0s\n",
      "['NAS:AAL' 'NAS:AAPL' 'NAS:ABNB' 'NAS:ACGL' 'NAS:ADBE' 'NAS:ADI' 'NAS:ADP'\n",
      " 'NAS:ADSK' 'NAS:AEP' 'NAS:AKAM' 'NAS:ALGN' 'NAS:AMAT' 'NAS:AMD'\n",
      " 'NAS:AMGN' 'NAS:AMZN' 'NAS:ANSS' 'NAS:APA' 'NAS:AVGO' 'NAS:AXON'\n",
      " 'NAS:BIIB' 'NAS:BKNG' 'NAS:BKR' 'NAS:CDNS' 'NAS:CDW' 'NAS:CEG' 'NAS:CHRW']\n"
     ]
    },
    {
     "data": {
      "text/html": [
       "<div>\n",
       "<style scoped>\n",
       "    .dataframe tbody tr th:only-of-type {\n",
       "        vertical-align: middle;\n",
       "    }\n",
       "\n",
       "    .dataframe tbody tr th {\n",
       "        vertical-align: top;\n",
       "    }\n",
       "\n",
       "    .dataframe thead th {\n",
       "        text-align: right;\n",
       "    }\n",
       "</style>\n",
       "<table border=\"1\" class=\"dataframe\">\n",
       "  <thead>\n",
       "    <tr style=\"text-align: right;\">\n",
       "      <th>asset</th>\n",
       "      <th>NAS:AAL</th>\n",
       "      <th>NAS:AAPL</th>\n",
       "      <th>NAS:ABNB</th>\n",
       "      <th>NAS:ACGL</th>\n",
       "      <th>NAS:ADBE</th>\n",
       "      <th>NAS:ADI</th>\n",
       "      <th>NAS:ADP</th>\n",
       "      <th>NAS:ADSK</th>\n",
       "      <th>NAS:AEP</th>\n",
       "      <th>NAS:AKAM</th>\n",
       "      <th>...</th>\n",
       "      <th>NAS:APA</th>\n",
       "      <th>NAS:AVGO</th>\n",
       "      <th>NAS:AXON</th>\n",
       "      <th>NAS:BIIB</th>\n",
       "      <th>NAS:BKNG</th>\n",
       "      <th>NAS:BKR</th>\n",
       "      <th>NAS:CDNS</th>\n",
       "      <th>NAS:CDW</th>\n",
       "      <th>NAS:CEG</th>\n",
       "      <th>NAS:CHRW</th>\n",
       "    </tr>\n",
       "    <tr>\n",
       "      <th>time</th>\n",
       "      <th></th>\n",
       "      <th></th>\n",
       "      <th></th>\n",
       "      <th></th>\n",
       "      <th></th>\n",
       "      <th></th>\n",
       "      <th></th>\n",
       "      <th></th>\n",
       "      <th></th>\n",
       "      <th></th>\n",
       "      <th></th>\n",
       "      <th></th>\n",
       "      <th></th>\n",
       "      <th></th>\n",
       "      <th></th>\n",
       "      <th></th>\n",
       "      <th></th>\n",
       "      <th></th>\n",
       "      <th></th>\n",
       "      <th></th>\n",
       "      <th></th>\n",
       "    </tr>\n",
       "  </thead>\n",
       "  <tbody>\n",
       "    <tr>\n",
       "      <th>2020-01-24</th>\n",
       "      <td>NaN</td>\n",
       "      <td>NaN</td>\n",
       "      <td>NaN</td>\n",
       "      <td>NaN</td>\n",
       "      <td>NaN</td>\n",
       "      <td>NaN</td>\n",
       "      <td>NaN</td>\n",
       "      <td>NaN</td>\n",
       "      <td>NaN</td>\n",
       "      <td>NaN</td>\n",
       "      <td>...</td>\n",
       "      <td>NaN</td>\n",
       "      <td>NaN</td>\n",
       "      <td>NaN</td>\n",
       "      <td>NaN</td>\n",
       "      <td>NaN</td>\n",
       "      <td>NaN</td>\n",
       "      <td>NaN</td>\n",
       "      <td>NaN</td>\n",
       "      <td>NaN</td>\n",
       "      <td>NaN</td>\n",
       "    </tr>\n",
       "    <tr>\n",
       "      <th>2020-01-27</th>\n",
       "      <td>NaN</td>\n",
       "      <td>NaN</td>\n",
       "      <td>NaN</td>\n",
       "      <td>NaN</td>\n",
       "      <td>NaN</td>\n",
       "      <td>NaN</td>\n",
       "      <td>NaN</td>\n",
       "      <td>NaN</td>\n",
       "      <td>NaN</td>\n",
       "      <td>NaN</td>\n",
       "      <td>...</td>\n",
       "      <td>NaN</td>\n",
       "      <td>NaN</td>\n",
       "      <td>NaN</td>\n",
       "      <td>NaN</td>\n",
       "      <td>NaN</td>\n",
       "      <td>NaN</td>\n",
       "      <td>NaN</td>\n",
       "      <td>NaN</td>\n",
       "      <td>NaN</td>\n",
       "      <td>NaN</td>\n",
       "    </tr>\n",
       "    <tr>\n",
       "      <th>2020-01-28</th>\n",
       "      <td>NaN</td>\n",
       "      <td>NaN</td>\n",
       "      <td>NaN</td>\n",
       "      <td>NaN</td>\n",
       "      <td>NaN</td>\n",
       "      <td>NaN</td>\n",
       "      <td>NaN</td>\n",
       "      <td>NaN</td>\n",
       "      <td>NaN</td>\n",
       "      <td>NaN</td>\n",
       "      <td>...</td>\n",
       "      <td>NaN</td>\n",
       "      <td>NaN</td>\n",
       "      <td>NaN</td>\n",
       "      <td>NaN</td>\n",
       "      <td>NaN</td>\n",
       "      <td>NaN</td>\n",
       "      <td>NaN</td>\n",
       "      <td>NaN</td>\n",
       "      <td>NaN</td>\n",
       "      <td>NaN</td>\n",
       "    </tr>\n",
       "    <tr>\n",
       "      <th>2020-01-29</th>\n",
       "      <td>NaN</td>\n",
       "      <td>NaN</td>\n",
       "      <td>NaN</td>\n",
       "      <td>NaN</td>\n",
       "      <td>NaN</td>\n",
       "      <td>NaN</td>\n",
       "      <td>NaN</td>\n",
       "      <td>NaN</td>\n",
       "      <td>NaN</td>\n",
       "      <td>NaN</td>\n",
       "      <td>...</td>\n",
       "      <td>NaN</td>\n",
       "      <td>NaN</td>\n",
       "      <td>NaN</td>\n",
       "      <td>NaN</td>\n",
       "      <td>NaN</td>\n",
       "      <td>NaN</td>\n",
       "      <td>NaN</td>\n",
       "      <td>NaN</td>\n",
       "      <td>NaN</td>\n",
       "      <td>NaN</td>\n",
       "    </tr>\n",
       "    <tr>\n",
       "      <th>2020-01-30</th>\n",
       "      <td>NaN</td>\n",
       "      <td>NaN</td>\n",
       "      <td>NaN</td>\n",
       "      <td>NaN</td>\n",
       "      <td>NaN</td>\n",
       "      <td>NaN</td>\n",
       "      <td>NaN</td>\n",
       "      <td>NaN</td>\n",
       "      <td>NaN</td>\n",
       "      <td>NaN</td>\n",
       "      <td>...</td>\n",
       "      <td>NaN</td>\n",
       "      <td>NaN</td>\n",
       "      <td>NaN</td>\n",
       "      <td>NaN</td>\n",
       "      <td>NaN</td>\n",
       "      <td>NaN</td>\n",
       "      <td>NaN</td>\n",
       "      <td>NaN</td>\n",
       "      <td>NaN</td>\n",
       "      <td>NaN</td>\n",
       "    </tr>\n",
       "    <tr>\n",
       "      <th>...</th>\n",
       "      <td>...</td>\n",
       "      <td>...</td>\n",
       "      <td>...</td>\n",
       "      <td>...</td>\n",
       "      <td>...</td>\n",
       "      <td>...</td>\n",
       "      <td>...</td>\n",
       "      <td>...</td>\n",
       "      <td>...</td>\n",
       "      <td>...</td>\n",
       "      <td>...</td>\n",
       "      <td>...</td>\n",
       "      <td>...</td>\n",
       "      <td>...</td>\n",
       "      <td>...</td>\n",
       "      <td>...</td>\n",
       "      <td>...</td>\n",
       "      <td>...</td>\n",
       "      <td>...</td>\n",
       "      <td>...</td>\n",
       "      <td>...</td>\n",
       "    </tr>\n",
       "    <tr>\n",
       "      <th>2025-01-13</th>\n",
       "      <td>0.493014</td>\n",
       "      <td>-0.045787</td>\n",
       "      <td>-0.153089</td>\n",
       "      <td>-0.249322</td>\n",
       "      <td>-0.541151</td>\n",
       "      <td>-0.093185</td>\n",
       "      <td>-0.070384</td>\n",
       "      <td>-0.151030</td>\n",
       "      <td>-0.045134</td>\n",
       "      <td>-0.250878</td>\n",
       "      <td>...</td>\n",
       "      <td>0.219181</td>\n",
       "      <td>0.560032</td>\n",
       "      <td>0.004854</td>\n",
       "      <td>-0.286590</td>\n",
       "      <td>-0.095362</td>\n",
       "      <td>0.295913</td>\n",
       "      <td>-0.026259</td>\n",
       "      <td>-0.130913</td>\n",
       "      <td>0.437331</td>\n",
       "      <td>-0.108797</td>\n",
       "    </tr>\n",
       "    <tr>\n",
       "      <th>2025-01-14</th>\n",
       "      <td>0.595151</td>\n",
       "      <td>-0.061104</td>\n",
       "      <td>-0.182038</td>\n",
       "      <td>-0.199958</td>\n",
       "      <td>-0.503530</td>\n",
       "      <td>-0.064253</td>\n",
       "      <td>-0.053986</td>\n",
       "      <td>-0.128503</td>\n",
       "      <td>-0.043578</td>\n",
       "      <td>-0.210291</td>\n",
       "      <td>...</td>\n",
       "      <td>0.288124</td>\n",
       "      <td>0.534176</td>\n",
       "      <td>0.053101</td>\n",
       "      <td>-0.422277</td>\n",
       "      <td>-0.090678</td>\n",
       "      <td>0.302702</td>\n",
       "      <td>-0.012113</td>\n",
       "      <td>-0.016620</td>\n",
       "      <td>0.561775</td>\n",
       "      <td>-0.128599</td>\n",
       "    </tr>\n",
       "    <tr>\n",
       "      <th>2025-01-15</th>\n",
       "      <td>0.545674</td>\n",
       "      <td>0.000734</td>\n",
       "      <td>-0.058978</td>\n",
       "      <td>-0.135012</td>\n",
       "      <td>-0.463930</td>\n",
       "      <td>-0.006926</td>\n",
       "      <td>-0.035611</td>\n",
       "      <td>-0.083611</td>\n",
       "      <td>-0.018076</td>\n",
       "      <td>-0.205332</td>\n",
       "      <td>...</td>\n",
       "      <td>0.374096</td>\n",
       "      <td>0.571417</td>\n",
       "      <td>0.040944</td>\n",
       "      <td>-0.451328</td>\n",
       "      <td>-0.062328</td>\n",
       "      <td>0.341565</td>\n",
       "      <td>0.053008</td>\n",
       "      <td>0.009935</td>\n",
       "      <td>0.715476</td>\n",
       "      <td>-0.118877</td>\n",
       "    </tr>\n",
       "    <tr>\n",
       "      <th>2025-01-16</th>\n",
       "      <td>0.569163</td>\n",
       "      <td>-0.130814</td>\n",
       "      <td>-0.066394</td>\n",
       "      <td>-0.040792</td>\n",
       "      <td>-0.389489</td>\n",
       "      <td>-0.053140</td>\n",
       "      <td>-0.004229</td>\n",
       "      <td>-0.093188</td>\n",
       "      <td>0.044422</td>\n",
       "      <td>-0.198263</td>\n",
       "      <td>...</td>\n",
       "      <td>0.328128</td>\n",
       "      <td>0.578292</td>\n",
       "      <td>0.059468</td>\n",
       "      <td>-0.431389</td>\n",
       "      <td>-0.044231</td>\n",
       "      <td>0.376282</td>\n",
       "      <td>0.026463</td>\n",
       "      <td>0.026159</td>\n",
       "      <td>0.895655</td>\n",
       "      <td>-0.125484</td>\n",
       "    </tr>\n",
       "    <tr>\n",
       "      <th>2025-01-17</th>\n",
       "      <td>0.544742</td>\n",
       "      <td>-0.106117</td>\n",
       "      <td>0.007788</td>\n",
       "      <td>-0.054083</td>\n",
       "      <td>-0.361635</td>\n",
       "      <td>0.013001</td>\n",
       "      <td>-0.005509</td>\n",
       "      <td>-0.077692</td>\n",
       "      <td>0.061599</td>\n",
       "      <td>-0.171672</td>\n",
       "      <td>...</td>\n",
       "      <td>0.219188</td>\n",
       "      <td>0.689062</td>\n",
       "      <td>0.089750</td>\n",
       "      <td>-0.430378</td>\n",
       "      <td>-0.009398</td>\n",
       "      <td>0.378310</td>\n",
       "      <td>0.091718</td>\n",
       "      <td>0.052495</td>\n",
       "      <td>0.892547</td>\n",
       "      <td>-0.094235</td>\n",
       "    </tr>\n",
       "  </tbody>\n",
       "</table>\n",
       "<p>1254 rows × 26 columns</p>\n",
       "</div>"
      ],
      "text/plain": [
       "asset        NAS:AAL  NAS:AAPL  NAS:ABNB  NAS:ACGL  NAS:ADBE   NAS:ADI  \\\n",
       "time                                                                     \n",
       "2020-01-24       NaN       NaN       NaN       NaN       NaN       NaN   \n",
       "2020-01-27       NaN       NaN       NaN       NaN       NaN       NaN   \n",
       "2020-01-28       NaN       NaN       NaN       NaN       NaN       NaN   \n",
       "2020-01-29       NaN       NaN       NaN       NaN       NaN       NaN   \n",
       "2020-01-30       NaN       NaN       NaN       NaN       NaN       NaN   \n",
       "...              ...       ...       ...       ...       ...       ...   \n",
       "2025-01-13  0.493014 -0.045787 -0.153089 -0.249322 -0.541151 -0.093185   \n",
       "2025-01-14  0.595151 -0.061104 -0.182038 -0.199958 -0.503530 -0.064253   \n",
       "2025-01-15  0.545674  0.000734 -0.058978 -0.135012 -0.463930 -0.006926   \n",
       "2025-01-16  0.569163 -0.130814 -0.066394 -0.040792 -0.389489 -0.053140   \n",
       "2025-01-17  0.544742 -0.106117  0.007788 -0.054083 -0.361635  0.013001   \n",
       "\n",
       "asset        NAS:ADP  NAS:ADSK   NAS:AEP  NAS:AKAM  ...   NAS:APA  NAS:AVGO  \\\n",
       "time                                                ...                       \n",
       "2020-01-24       NaN       NaN       NaN       NaN  ...       NaN       NaN   \n",
       "2020-01-27       NaN       NaN       NaN       NaN  ...       NaN       NaN   \n",
       "2020-01-28       NaN       NaN       NaN       NaN  ...       NaN       NaN   \n",
       "2020-01-29       NaN       NaN       NaN       NaN  ...       NaN       NaN   \n",
       "2020-01-30       NaN       NaN       NaN       NaN  ...       NaN       NaN   \n",
       "...              ...       ...       ...       ...  ...       ...       ...   \n",
       "2025-01-13 -0.070384 -0.151030 -0.045134 -0.250878  ...  0.219181  0.560032   \n",
       "2025-01-14 -0.053986 -0.128503 -0.043578 -0.210291  ...  0.288124  0.534176   \n",
       "2025-01-15 -0.035611 -0.083611 -0.018076 -0.205332  ...  0.374096  0.571417   \n",
       "2025-01-16 -0.004229 -0.093188  0.044422 -0.198263  ...  0.328128  0.578292   \n",
       "2025-01-17 -0.005509 -0.077692  0.061599 -0.171672  ...  0.219188  0.689062   \n",
       "\n",
       "asset       NAS:AXON  NAS:BIIB  NAS:BKNG   NAS:BKR  NAS:CDNS   NAS:CDW  \\\n",
       "time                                                                     \n",
       "2020-01-24       NaN       NaN       NaN       NaN       NaN       NaN   \n",
       "2020-01-27       NaN       NaN       NaN       NaN       NaN       NaN   \n",
       "2020-01-28       NaN       NaN       NaN       NaN       NaN       NaN   \n",
       "2020-01-29       NaN       NaN       NaN       NaN       NaN       NaN   \n",
       "2020-01-30       NaN       NaN       NaN       NaN       NaN       NaN   \n",
       "...              ...       ...       ...       ...       ...       ...   \n",
       "2025-01-13  0.004854 -0.286590 -0.095362  0.295913 -0.026259 -0.130913   \n",
       "2025-01-14  0.053101 -0.422277 -0.090678  0.302702 -0.012113 -0.016620   \n",
       "2025-01-15  0.040944 -0.451328 -0.062328  0.341565  0.053008  0.009935   \n",
       "2025-01-16  0.059468 -0.431389 -0.044231  0.376282  0.026463  0.026159   \n",
       "2025-01-17  0.089750 -0.430378 -0.009398  0.378310  0.091718  0.052495   \n",
       "\n",
       "asset        NAS:CEG  NAS:CHRW  \n",
       "time                            \n",
       "2020-01-24       NaN       NaN  \n",
       "2020-01-27       NaN       NaN  \n",
       "2020-01-28       NaN       NaN  \n",
       "2020-01-29       NaN       NaN  \n",
       "2020-01-30       NaN       NaN  \n",
       "...              ...       ...  \n",
       "2025-01-13  0.437331 -0.108797  \n",
       "2025-01-14  0.561775 -0.128599  \n",
       "2025-01-15  0.715476 -0.118877  \n",
       "2025-01-16  0.895655 -0.125484  \n",
       "2025-01-17  0.892547 -0.094235  \n",
       "\n",
       "[1254 rows x 26 columns]"
      ]
     },
     "metadata": {},
     "output_type": "display_data"
    },
    {
     "name": "stdout",
     "output_type": "stream",
     "text": [
      "Run the last iteration...\n"
     ]
    },
    {
     "name": "stderr",
     "output_type": "stream",
     "text": [
      "100% (44115 of 44115) |##################| Elapsed Time: 0:00:00 Time:  0:00:00\n",
      "100% (8966212 of 8966212) |##############| Elapsed Time: 0:00:00 Time:  0:00:00\n"
     ]
    },
    {
     "name": "stdout",
     "output_type": "stream",
     "text": [
      "fetched chunk 1/1 3s\n",
      "Data loaded 3s\n"
     ]
    },
    {
     "name": "stderr",
     "output_type": "stream",
     "text": [
      "100% (649476 of 649476) |################| Elapsed Time: 0:00:00 Time:  0:00:00\n"
     ]
    },
    {
     "name": "stdout",
     "output_type": "stream",
     "text": [
      "fetched chunk 1/1 2s\n",
      "Data loaded 2s\n",
      "Output cleaning...\n",
      "fix uniq\n",
      "ffill if the current price is None...\n",
      "Check liquidity...\n",
      "Ok.\n",
      "Check missed dates...\n",
      "Ok.\n",
      "Normalization...\n",
      "Output cleaning is complete.\n",
      "Write output: /root/fractions.nc.gz\n",
      "State saved.\n",
      "---\n",
      "Run First Iteration...\n"
     ]
    },
    {
     "name": "stderr",
     "output_type": "stream",
     "text": [
      "100% (44115 of 44115) |##################| Elapsed Time: 0:00:00 Time:  0:00:00\n",
      "100% (9037908 of 9037908) |##############| Elapsed Time: 0:00:00 Time:  0:00:00\n"
     ]
    },
    {
     "name": "stdout",
     "output_type": "stream",
     "text": [
      "fetched chunk 1/1 3s\n",
      "Data loaded 3s\n",
      "---\n",
      "Run all iterations...\n",
      "Load data...\n"
     ]
    },
    {
     "name": "stderr",
     "output_type": "stream",
     "text": [
      "100% (44115 of 44115) |##################| Elapsed Time: 0:00:00 Time:  0:00:00\n",
      "100% (13020716 of 13020716) |############| Elapsed Time: 0:00:00 Time:  0:00:00\n"
     ]
    },
    {
     "name": "stdout",
     "output_type": "stream",
     "text": [
      "fetched chunk 1/8 1s\n"
     ]
    },
    {
     "name": "stderr",
     "output_type": "stream",
     "text": [
      "100% (13020716 of 13020716) |############| Elapsed Time: 0:00:00 Time:  0:00:00\n"
     ]
    },
    {
     "name": "stdout",
     "output_type": "stream",
     "text": [
      "fetched chunk 2/8 2s\n"
     ]
    },
    {
     "name": "stderr",
     "output_type": "stream",
     "text": [
      "100% (13020716 of 13020716) |############| Elapsed Time: 0:00:00 Time:  0:00:00\n"
     ]
    },
    {
     "name": "stdout",
     "output_type": "stream",
     "text": [
      "fetched chunk 3/8 3s\n"
     ]
    },
    {
     "name": "stderr",
     "output_type": "stream",
     "text": [
      "100% (13020692 of 13020692) |############| Elapsed Time: 0:00:00 Time:  0:00:00\n"
     ]
    },
    {
     "name": "stdout",
     "output_type": "stream",
     "text": [
      "fetched chunk 4/8 4s\n"
     ]
    },
    {
     "name": "stderr",
     "output_type": "stream",
     "text": [
      "100% (13020624 of 13020624) |############| Elapsed Time: 0:00:00 Time:  0:00:00\n"
     ]
    },
    {
     "name": "stdout",
     "output_type": "stream",
     "text": [
      "fetched chunk 5/8 5s\n"
     ]
    },
    {
     "name": "stderr",
     "output_type": "stream",
     "text": [
      "100% (13020624 of 13020624) |############| Elapsed Time: 0:00:00 Time:  0:00:00\n"
     ]
    },
    {
     "name": "stdout",
     "output_type": "stream",
     "text": [
      "fetched chunk 6/8 6s\n"
     ]
    },
    {
     "name": "stderr",
     "output_type": "stream",
     "text": [
      "100% (13020624 of 13020624) |############| Elapsed Time: 0:00:00 Time:  0:00:00\n"
     ]
    },
    {
     "name": "stdout",
     "output_type": "stream",
     "text": [
      "fetched chunk 7/8 7s\n"
     ]
    },
    {
     "name": "stderr",
     "output_type": "stream",
     "text": [
      "100% (13020692 of 13020692) |############| Elapsed Time: 0:00:00 Time:  0:00:00\n"
     ]
    },
    {
     "name": "stdout",
     "output_type": "stream",
     "text": [
      "fetched chunk 8/8 8s\n",
      "Data loaded 8s\n"
     ]
    },
    {
     "name": "stderr",
     "output_type": "stream",
     "text": [
      "100% (44115 of 44115) |##################| Elapsed Time: 0:00:00 Time:  0:00:00\n",
      "100% (12933908 of 12933908) |############| Elapsed Time: 0:00:00 Time:  0:00:00\n"
     ]
    },
    {
     "name": "stdout",
     "output_type": "stream",
     "text": [
      "fetched chunk 1/7 1s\n"
     ]
    },
    {
     "name": "stderr",
     "output_type": "stream",
     "text": [
      "100% (12933904 of 12933904) |############| Elapsed Time: 0:00:00 Time:  0:00:00\n"
     ]
    },
    {
     "name": "stdout",
     "output_type": "stream",
     "text": [
      "fetched chunk 2/7 2s\n"
     ]
    },
    {
     "name": "stderr",
     "output_type": "stream",
     "text": [
      "100% (12933904 of 12933904) |############| Elapsed Time: 0:00:00 Time:  0:00:00\n"
     ]
    },
    {
     "name": "stdout",
     "output_type": "stream",
     "text": [
      "fetched chunk 3/7 3s\n"
     ]
    },
    {
     "name": "stderr",
     "output_type": "stream",
     "text": [
      "100% (12933880 of 12933880) |############| Elapsed Time: 0:00:00 Time:  0:00:00\n"
     ]
    },
    {
     "name": "stdout",
     "output_type": "stream",
     "text": [
      "fetched chunk 4/7 4s\n"
     ]
    },
    {
     "name": "stderr",
     "output_type": "stream",
     "text": [
      "100% (12933800 of 12933800) |############| Elapsed Time: 0:00:00 Time:  0:00:00\n"
     ]
    },
    {
     "name": "stdout",
     "output_type": "stream",
     "text": [
      "fetched chunk 5/7 5s\n"
     ]
    },
    {
     "name": "stderr",
     "output_type": "stream",
     "text": [
      "100% (12933800 of 12933800) |############| Elapsed Time: 0:00:00 Time:  0:00:00\n"
     ]
    },
    {
     "name": "stdout",
     "output_type": "stream",
     "text": [
      "fetched chunk 6/7 6s\n"
     ]
    },
    {
     "name": "stderr",
     "output_type": "stream",
     "text": [
      "100% (12933880 of 12933880) |############| Elapsed Time: 0:00:00 Time:  0:00:00\n"
     ]
    },
    {
     "name": "stdout",
     "output_type": "stream",
     "text": [
      "fetched chunk 7/7 7s\n",
      "Data loaded 7s\n",
      "Backtest...\n"
     ]
    },
    {
     "name": "stderr",
     "output_type": "stream",
     "text": [
      "100% (44115 of 44115) |##################| Elapsed Time: 0:00:00 Time:  0:00:00\n",
      "100% (13036468 of 13036468) |############| Elapsed Time: 0:00:00 Time:  0:00:00\n"
     ]
    },
    {
     "name": "stdout",
     "output_type": "stream",
     "text": [
      "fetched chunk 1/7 1s\n"
     ]
    },
    {
     "name": "stderr",
     "output_type": "stream",
     "text": [
      "100% (13036464 of 13036464) |############| Elapsed Time: 0:00:00 Time:  0:00:00\n"
     ]
    },
    {
     "name": "stdout",
     "output_type": "stream",
     "text": [
      "fetched chunk 2/7 2s\n"
     ]
    },
    {
     "name": "stderr",
     "output_type": "stream",
     "text": [
      "100% (13036464 of 13036464) |############| Elapsed Time: 0:00:00 Time:  0:00:00\n"
     ]
    },
    {
     "name": "stdout",
     "output_type": "stream",
     "text": [
      "fetched chunk 3/7 3s\n"
     ]
    },
    {
     "name": "stderr",
     "output_type": "stream",
     "text": [
      "100% (13036440 of 13036440) |############| Elapsed Time: 0:00:00 Time:  0:00:00\n"
     ]
    },
    {
     "name": "stdout",
     "output_type": "stream",
     "text": [
      "fetched chunk 4/7 4s\n"
     ]
    },
    {
     "name": "stderr",
     "output_type": "stream",
     "text": [
      "100% (13036360 of 13036360) |############| Elapsed Time: 0:00:00 Time:  0:00:00\n"
     ]
    },
    {
     "name": "stdout",
     "output_type": "stream",
     "text": [
      "fetched chunk 5/7 4s\n"
     ]
    },
    {
     "name": "stderr",
     "output_type": "stream",
     "text": [
      "100% (13036360 of 13036360) |############| Elapsed Time: 0:00:00 Time:  0:00:00\n"
     ]
    },
    {
     "name": "stdout",
     "output_type": "stream",
     "text": [
      "fetched chunk 6/7 5s\n"
     ]
    },
    {
     "name": "stderr",
     "output_type": "stream",
     "text": [
      "100% (13036440 of 13036440) |############| Elapsed Time: 0:00:00 Time:  0:00:00\n"
     ]
    },
    {
     "name": "stdout",
     "output_type": "stream",
     "text": [
      "fetched chunk 7/7 7s\n",
      "Data loaded 7s\n",
      "Output cleaning...\n",
      "fix uniq\n",
      "ffill if the current price is None...\n",
      "Check liquidity...\n",
      "WARNING! Strategy trades non-liquid assets.\n",
      "Fix liquidity...\n",
      "Ok.\n",
      "Check missed dates...\n",
      "Ok.\n",
      "Normalization...\n",
      "Output cleaning is complete.\n",
      "Write output: /root/fractions.nc.gz\n",
      "State saved.\n",
      "---\n",
      "Analyze results...\n",
      "Check...\n",
      "Check liquidity...\n",
      "Ok.\n",
      "Check missed dates...\n",
      "Ok.\n",
      "Check the sharpe ratio...\n",
      "Period: 2006-01-01 - 2025-01-17\n",
      "Sharpe Ratio = -0.0057228890009565\n"
     ]
    },
    {
     "name": "stderr",
     "output_type": "stream",
     "text": [
      "ERROR! The Sharpe Ratio is too low. -0.0057228890009565 < 0.7\n",
      "Improve the strategy and make sure that the in-sample Sharpe Ratio more than 0.7.\n"
     ]
    },
    {
     "name": "stdout",
     "output_type": "stream",
     "text": [
      "---\n",
      "Align...\n",
      "Calc global stats...\n",
      "---\n",
      "Calc stats per asset...\n",
      "Build plots...\n",
      "---\n",
      "Select the asset (or leave blank to display the overall stats):\n"
     ]
    },
    {
     "data": {
      "application/vnd.jupyter.widget-view+json": {
       "model_id": "aaf6b33c983d4b3bbee80bdc74eaf2a0",
       "version_major": 2,
       "version_minor": 0
      },
      "text/plain": [
       "interactive(children=(Combobox(value='', description='asset', options=('', 'NAS:AAL', 'NAS:AAPL', 'NAS:ABNB', …"
      ]
     },
     "metadata": {},
     "output_type": "display_data"
    },
    {
     "name": "stderr",
     "output_type": "stream",
     "text": [
      "100% (5044 of 5044) |####################| Elapsed Time: 0:02:37 Time:  0:02:37\n"
     ]
    },
    {
     "name": "stdout",
     "output_type": "stream",
     "text": [
      "<xarray.DataArray 'stocks_nasdaq100' (time: 5044, asset: 280)> Size: 11MB\n",
      "array([[0.        , 0.        , 0.        , ..., 0.        , 0.        ,\n",
      "        0.        ],\n",
      "       [0.        , 0.        , 0.        , ..., 0.01282051, 0.        ,\n",
      "        0.        ],\n",
      "       [0.        , 0.        , 0.        , ..., 0.        , 0.        ,\n",
      "        0.        ],\n",
      "       ...,\n",
      "       [0.        , 0.        , 0.03448276, ..., 0.        , 0.        ,\n",
      "        0.        ],\n",
      "       [0.        , 0.        , 0.        , ..., 0.        , 0.        ,\n",
      "        0.        ],\n",
      "       [0.        , 0.04347826, 0.        , ..., 0.        , 0.        ,\n",
      "        0.        ]])\n",
      "Coordinates:\n",
      "  * time     (time) datetime64[ns] 40kB 2005-01-03 2005-01-04 ... 2025-01-17\n",
      "  * asset    (asset) <U10 11kB 'NAS:AAL' 'NAS:AAPL' ... 'NYS:RHT' 'NYS:TEVA'\n"
     ]
    },
    {
     "data": {
      "image/png": "[encoded data removed]",
      "text/plain": [
       "<Figure size 1000x600 with 1 Axes>"
      ]
     },
     "metadata": {},
     "output_type": "display_data"
    },
    {
     "name": "stdout",
     "output_type": "stream",
     "text": [
      "Sharpe Ratio: <xarray.DataArray (time: 1254, field: 11)> Size: 110kB\n",
      "array([[             nan,              nan,              nan, ...,\n",
      "                     nan,              nan,              nan],\n",
      "       [             inf,              nan,              nan, ...,\n",
      "         1.74745022e+180,  1.03141508e+005,              nan],\n",
      "       [             inf,              nan,              nan, ...,\n",
      "         2.72315761e+190,  1.37318858e+008,              nan],\n",
      "       ...,\n",
      "       [ 3.38278346e+069, -5.28285974e-001,  3.15341368e+008, ...,\n",
      "                     inf,  5.49574895e+015,  9.69660501e+142],\n",
      "       [ 3.36721234e+069, -5.29403458e-001,  3.14546282e+008, ...,\n",
      "                     inf,  5.50098780e+015,  9.75393476e+142],\n",
      "       [ 3.35291794e+069, -5.18780558e-001,  3.13754189e+008, ...,\n",
      "                     inf,  5.50624265e+015,  9.81128099e+142]])\n",
      "Coordinates:\n",
      "  * time     (time) datetime64[ns] 10kB 2020-01-24 2020-01-27 ... 2025-01-17\n",
      "  * field    (field) object 88B 'equity' ... 'avg_holding_time'\n",
      "R2: -0.9722352168390203, Explained Variance: -0.00107624507811388, MAE: 0.5014780209775972\n",
      "done\n"
     ]
    },
    {
     "name": "stderr",
     "output_type": "stream",
     "text": [
      "/usr/local/lib/python3.10/site-packages/xarray/core/computation.py:821: RuntimeWarning:\n",
      "\n",
      "invalid value encountered in log\n",
      "\n",
      "/usr/local/lib/python3.10/site-packages/xarray/core/computation.py:821: RuntimeWarning:\n",
      "\n",
      "overflow encountered in power\n",
      "\n"
     ]
    }
   ],
   "source": [
    "np.seterr(divide=\"ignore\")\n",
    "\n",
    "# Cargar datos\n",
    "assets = ['NAS:AAL', 'NAS:AAPL', 'NAS:ABNB', 'NAS:ACGL', 'NAS:ADBE', 'NAS:ADI', 'NAS:ADP',\n",
    " 'NAS:ADSK', 'NAS:AEP', 'NAS:AKAM', 'NAS:ALGN', 'NAS:AMAT', 'NAS:AMD',\n",
    " 'NAS:AMGN', 'NAS:AMZN', 'NAS:ANSS', 'NAS:APA', 'NAS:AVGO', 'NAS:AXON',\n",
    " 'NAS:BIIB', 'NAS:BKNG', 'NAS:BKR', 'NAS:CDNS', 'NAS:CDW', 'NAS:CEG', 'NAS:CHRW']\n",
    "\n",
    "#Estas son las 20 acciones analizadas, estas cubren diferentes campos, que varian entre mercados y que son las líderes del mercado, l\n",
    "\n",
    "data = qndata.stocks.load_spx_data(tail=365 * 5, assets=assets)\n",
    "\n",
    "print(data.coords[\"asset\"].values)\n",
    "\n",
    "\n",
    "\n",
    "# Función para generar características\n",
    "def get_features(data):\n",
    "    close = data.sel(field=\"close\")\n",
    "    high = data.sel(field=\"high\")\n",
    "    low = data.sel(field=\"low\")\n",
    "\n",
    "    trend = qnta.roc(qnta.lwma(close, 60), 1)\n",
    "    macd_signal = qnta.macd(close)[1]\n",
    "    volatility = qnta.tr(high, low, close) / close\n",
    "    volatility_annual = volatility.rolling(time=250).std()\n",
    "    stochastic_k, stochastic_d = qnta.stochastic(high, low, close, 14)\n",
    "    rsi = qnta.rsi(close)\n",
    "    log_price = np.log(close)\n",
    "\n",
    "    #RSI y log price son dos nuevas variables que agregan mas datos a la apertura y la fuerza de un movimiento para poder ayudar a la predicción.\n",
    "\n",
    "    features = xr.concat(\n",
    "        [trend, macd_signal, volatility, volatility_annual, stochastic_d, rsi, log_price],\n",
    "        pd.Index([\"trend\", \"macd_signal\", \"volatility\", \"volatility_annual\", \"stochastic_d\", \"rsi\", \"log_price\"], name=\"field\"),\n",
    "    )\n",
    "    return features.transpose(\"time\", \"field\", \"asset\")\n",
    "\n",
    "my_features = get_features(data)\n",
    "display(my_features.sel(field=\"trend\").to_pandas())\n",
    "# Target: subir o bajar\n",
    "def get_target_classes(data):\n",
    "    price = data.sel(field=\"close\")\n",
    "    future_price = qnta.shift(price, -1)\n",
    "    return xr.where(future_price > price, 1, 0)\n",
    "\n",
    "# Modelo basado en Random Forest\n",
    "def get_model():\n",
    "    return RandomForestClassifier(n_estimators=100, random_state=42, n_jobs=-1)\n",
    "\n",
    "# Entrenamiento de modelos\n",
    "def train_model(data):\n",
    "    features = get_features(data)\n",
    "    targets = get_target_classes(data)\n",
    "    models = {}\n",
    "    for asset in data.coords[\"asset\"].values:\n",
    "        target_asset = targets.sel(asset=asset).dropna(dim=\"time\", how=\"any\")\n",
    "        features_asset = features.sel(asset=asset).dropna(dim=\"time\", how=\"any\")\n",
    "        target_df, feature_df = xr.align(target_asset, features_asset, join=\"inner\")\n",
    "        if len(target_df.time) < 10:\n",
    "            continue\n",
    "        model = get_model()\n",
    "        model.fit(feature_df.values, target_df.values)\n",
    "        models[asset] = model\n",
    "    return models\n",
    "\n",
    "# Predicción de pesos\n",
    "def predict_weights(models, data):\n",
    "    features = get_features(data)\n",
    "    weights = xr.zeros_like(data.sel(field=\"close\"))\n",
    "    for asset in data.coords[\"asset\"].values:\n",
    "        if asset in models:\n",
    "            model = models[asset]\n",
    "            features_asset = features.sel(asset=asset).dropna(dim=\"time\", how=\"any\")\n",
    "            if len(features_asset.time) < 1:\n",
    "                continue\n",
    "            weights.loc[dict(asset=asset, time=features_asset.time.values)] = model.predict(features_asset.values)\n",
    "    return weights\n",
    "\n",
    "# Backtesting\n",
    "weights = qnbt.backtest_ml(\n",
    "    train                         = train_model,  # Función para entrenar modelos\n",
    "    predict                       = predict_weights,  # Función para predecir pesos\n",
    "    train_period                  = 2 * 365,  # Período de entrenamiento en días calendario\n",
    "    retrain_interval              = 10 * 365,  # Intervalo de reentrenamiento en días calendario\n",
    "    retrain_interval_after_submit = 1,  # Intervalo de reentrenamiento después de la evaluación\n",
    "    predict_each_day              = False,  # No es necesario predecir todos los días\n",
    "    competition_type              = \"stocks_nasdaq100\",  # Tipo de competencia\n",
    "    lookback_period               = 365,  # Período de datos necesarios para generar la predicción\n",
    "    start_date                    = \"2005-01-01\",  # Fecha de inicio del backtest\n",
    "    analyze                       = True,  # Realizar análisis de resultados\n",
    "    build_plots                   = True  # Generar gráficos\n",
    ")\n",
    "\n",
    "# Imprimir resultados básicos\n",
    "print(weights)\n",
    "\n",
    "result = weights\n",
    "\n",
    "\n",
    "# Métricas y visualización\n",
    "statistics = qnstats.calc_stat(data, result)  # Usar `result` correctamente\n",
    "performance = statistics.to_pandas()[\"equity\"]\n",
    "performance.plot(logy=True, title=\"Performance (log scale)\", figsize=(10, 6))\n",
    "plt.show()\n",
    "\n",
    "sharpe_ratio = qnstats.calc_sharpe_ratio_annualized(statistics)\n",
    "print(\"Sharpe Ratio:\", sharpe_ratio)\n",
    "\n",
    "# Métricas del modelo\n",
    "target = get_target_classes(data)\n",
    "aligned_target, aligned_result = xr.align(target, result, join=\"inner\")\n",
    "r2 = r2_score(aligned_target.values.flatten(), aligned_result.values.flatten())\n",
    "explained_var = explained_variance_score(aligned_target.values.flatten(), aligned_result.values.flatten())\n",
    "mae = mean_absolute_error(aligned_target.values.flatten(), aligned_result.values.flatten())\n",
    "\n",
    "print(f\"R2: {r2}, Explained Variance: {explained_var}, MAE: {mae}\")\n",
    "print(\"done\")"
   ]
  },
  {
   "cell_type": "code",
   "execution_count": null,
   "id": "edb3fa94-46e7-40e1-abb2-f182bc05aef0",
   "metadata": {},
   "outputs": [],
   "source": [
    "#"
   ]
  }
 ],
 "metadata": {
  "kernelspec": {
   "display_name": "Python 3 (ipykernel)",
   "language": "python",
   "name": "python3"
  },
  "language_info": {
   "codemirror_mode": {
    "name": "ipython",
    "version": 3
   },
   "file_extension": ".py",
   "mimetype": "text/x-python",
   "name": "python",
   "nbconvert_exporter": "python",
   "pygments_lexer": "ipython3",
   "version": "3.10.13"
  }
 },
 "nbformat": 4,
 "nbformat_minor": 5
}
